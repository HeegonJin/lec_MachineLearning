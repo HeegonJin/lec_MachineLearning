{
 "cells": [
  {
   "cell_type": "code",
   "execution_count": 1,
   "metadata": {},
   "outputs": [],
   "source": [
    "import matplotlib as mpl\n",
    "import matplotlib.pyplot as plt\n",
    "import numpy as np\n",
    "import pandas as pd\n",
    "import random\n",
    "%matplotlib inline"
   ]
  },
  {
   "cell_type": "code",
   "execution_count": 2,
   "metadata": {
    "scrolled": true
   },
   "outputs": [],
   "source": [
    "train_path = \"data_train.csv\"\n",
    "test_path = \"data_test.csv\"\n"
   ]
  },
  {
   "cell_type": "code",
   "execution_count": 3,
   "metadata": {
    "scrolled": true
   },
   "outputs": [],
   "source": [
    "import csv\n",
    "train_data = []\n",
    "test_data = []\n",
    "\n",
    "f = open(train_path, 'r')\n",
    "rdf = csv.reader(f)\n",
    "for line in rdf:\n",
    "    cvtline = []\n",
    "    for word in line:\n",
    "        cvtword = word.replace(\"'\",\"\")\n",
    "        cvtline.append(cvtword)\n",
    "    train_data.append(cvtline)\n",
    "\n",
    "f = open(test_path, 'r')\n",
    "rdf = csv.reader(f)\n",
    "for line in rdf:\n",
    "    cvtline = []\n",
    "    for word in line:\n",
    "        cvtword = word.replace(\"'\",\"\")\n",
    "        cvtline.append(cvtword)\n",
    "    test_data.append(cvtline)\n",
    "\n",
    "train_data = np.array(train_data).astype(np.float)\n",
    "test_data = np.array(test_data).astype(np.float)\n",
    "train_data = np.transpose(train_data).astype(np.float)\n",
    "test_data = np.transpose(test_data).astype(np.float)"
   ]
  },
  {
   "cell_type": "code",
   "execution_count": 4,
   "metadata": {},
   "outputs": [],
   "source": [
    "x_train = train_data[:][0]\n",
    "y_train = train_data[:][1]\n",
    "z_train = train_data[:][2]\n",
    "h_train = train_data[:][3]\n",
    "x_test = test_data[:][0]\n",
    "y_test = test_data[:][1]\n",
    "z_test = test_data[:][2]\n",
    "h_test = test_data[:][3]"
   ]
  },
  {
   "cell_type": "code",
   "execution_count": 5,
   "metadata": {},
   "outputs": [],
   "source": [
    "#defining functions\n",
    "def Linear_Model(x, y, z, theta0, theta1, theta2,theta3): #Linear function\n",
    "    return (theta0 + theta1 * x + theta2 * y + theta3 * z)\n",
    "\n",
    "\n",
    "def Objective_Function(x_data,y_data,z_data, h_data, theta0, theta1, theta2, theta3):#object function (loss function)\n",
    "    result = 0\n",
    "    for i in range(len(x_data)): # x, y, z, h all have same length\n",
    "        result += (Linear_Model(x_data[i],y_data[i],z_data[i], theta0, theta1, theta2, theta3) - h_data[i])**2\n",
    "    result /= 2* len(x_data)\n",
    "    return result\n",
    "\n",
    "\n",
    "def Gradient_Descent(m, lr, x_data,y_data,z_data, h_data, theta0, theta1, theta2, theta3): # derivative of loss funciton \n",
    "    temp = 0\n",
    "    for i in range(m):\n",
    "        temp += Linear_Model(x_data[i],y_data[i],z_data[i], theta0, theta1, theta2, theta3) - h_data[i]\n",
    "    new_theta0 = theta0 - lr * temp / m\n",
    "    \n",
    "    temp = 0\n",
    "    for i in range(m):\n",
    "        temp += (Linear_Model(x_data[i],y_data[i],z_data[i], theta0, theta1, theta2, theta3) - h_data[i])*x_data[i]\n",
    "    new_theta1 = theta1 - lr * temp / m\n",
    "    \n",
    "    temp = 0\n",
    "    for i in range(m):\n",
    "        temp += (Linear_Model(x_data[i],y_data[i],z_data[i], theta0, theta1, theta2, theta3) - h_data[i])*y_data[i]\n",
    "    new_theta2 = theta2 - lr * temp / m\n",
    "    \n",
    "    temp = 0\n",
    "    for i in range(m):\n",
    "        temp += (Linear_Model(x_data[i],y_data[i],z_data[i], theta0, theta1, theta2, theta3) - h_data[i])*z_data[i]\n",
    "    new_theta3 = theta3 - lr * temp / m\n",
    "    \n",
    "    theta0 = new_theta0\n",
    "    theta1 = new_theta1\n",
    "    theta2 = new_theta2\n",
    "    theta3 = new_theta3\n",
    "    #theta values updated simultaneously, after calculation\n",
    "    \n",
    "    return theta0, theta1, theta2, theta3"
   ]
  },
  {
   "cell_type": "code",
   "execution_count": 6,
   "metadata": {},
   "outputs": [],
   "source": [
    "theta0, theta1, theta2, theta3 = np.random.rand(4) #initializing theta\n",
    "m = len(x_train) # number of samples\n",
    "lr = 0.00002 #learning rate\n",
    "\n",
    "#contain values with lists\n",
    "train_loss = []\n",
    "test_loss = []\n",
    "t0 = [] \n",
    "t1 = []\n",
    "t2 = []\n",
    "t3 = []\n",
    "\n",
    "itermax = 10000\n",
    "itercount = 0\n",
    "while True: # changing theta values using gradient descent\n",
    "    \n",
    "    t0.append(theta0)\n",
    "    t1.append(theta1)\n",
    "    t2.append(theta2)\n",
    "    t3.append(theta3)\n",
    "    \n",
    "    if itercount >= itermax: #if more than 10000 iter, break the loop\n",
    "        break\n",
    "    \n",
    "    train_loss.append(Objective_Function(x_train,y_train,z_train,h_train, theta0, theta1,theta2,theta3))\n",
    "    test_loss.append(Objective_Function(x_test,y_test,z_test,h_test, theta0, theta1,theta2,theta3))\n",
    "    \n",
    "    theta0, theta1, theta2, theta3 = Gradient_Descent(m,lr,x_train,y_train,z_train,h_train,theta0,theta1,theta2,theta3) #updated by train data\n",
    "\n",
    "    if len(train_loss) > 2 and abs(train_loss[-1] - train_loss[-2]) < 0.0001: #check if the value converges by looking train loss change\n",
    "        break\n",
    "    \n",
    "    itercount += 1\n",
    "    "
   ]
  },
  {
   "cell_type": "code",
   "execution_count": 7,
   "metadata": {
    "scrolled": true
   },
   "outputs": [
    {
     "name": "stdout",
     "output_type": "stream",
     "text": [
      "5910\n"
     ]
    }
   ],
   "source": [
    "print(itercount)"
   ]
  },
  {
   "cell_type": "markdown",
   "metadata": {},
   "source": [
    "# Plotting the estimated parameters"
   ]
  },
  {
   "cell_type": "code",
   "execution_count": 8,
   "metadata": {
    "scrolled": false
   },
   "outputs": [
    {
     "data": {
      "image/png": "[encoded data removed]",
      "text/plain": [
       "<Figure size 432x288 with 1 Axes>"
      ]
     },
     "metadata": {
      "needs_background": "light"
     },
     "output_type": "display_data"
    }
   ],
   "source": [
    "step = np.arange(0,itercount+1,1)\n",
    "plt.plot(step, t0, c = 'k', label = 'theta0')\n",
    "plt.plot(step, t1, c = 'r', label = 'theta1')\n",
    "plt.plot(step, t2, c = 'g', label = 'theta2')\n",
    "plt.plot(step, t3, c = 'b', label = 'theta3')\n",
    "plt.legend()\n",
    "plt.xlabel(\"iteration\")\n",
    "plt.ylabel(\"theta values\")\n",
    "plt.show()"
   ]
  },
  {
   "cell_type": "markdown",
   "metadata": {},
   "source": [
    "# Plotting the training error"
   ]
  },
  {
   "cell_type": "code",
   "execution_count": 9,
   "metadata": {
    "scrolled": false
   },
   "outputs": [
    {
     "data": {
      "image/png": "[encoded data removed]",
      "text/plain": [
       "<Figure size 432x288 with 1 Axes>"
      ]
     },
     "metadata": {
      "needs_background": "light"
     },
     "output_type": "display_data"
    }
   ],
   "source": [
    "plt.plot(step, train_loss, c= 'b')\n",
    "plt.xlabel(\"iteration\")\n",
    "plt.ylabel(\"training error\")\n",
    "plt.show()"
   ]
  },
  {
   "cell_type": "code",
   "execution_count": 10,
   "metadata": {
    "scrolled": true
   },
   "outputs": [
    {
     "name": "stdout",
     "output_type": "stream",
     "text": [
      "32485.97501980218 103.90114428818954\n"
     ]
    }
   ],
   "source": [
    "print(train_loss[0], train_loss[-1])"
   ]
  },
  {
   "cell_type": "markdown",
   "metadata": {},
   "source": [
    "# Plotting the testing error"
   ]
  },
  {
   "cell_type": "code",
   "execution_count": 11,
   "metadata": {
    "scrolled": true
   },
   "outputs": [
    {
     "data": {
      "image/png": "[encoded data removed]",
      "text/plain": [
       "<Figure size 432x288 with 1 Axes>"
      ]
     },
     "metadata": {
      "needs_background": "light"
     },
     "output_type": "display_data"
    }
   ],
   "source": [
    "plt.plot(step, test_loss, c= 'r')\n",
    "plt.xlabel(\"iteration\")\n",
    "plt.ylabel(\"testing error\")\n",
    "plt.show()"
   ]
  },
  {
   "cell_type": "code",
   "execution_count": 12,
   "metadata": {},
   "outputs": [
    {
     "name": "stdout",
     "output_type": "stream",
     "text": [
      "32263.315328158194 1.4822440174805678\n"
     ]
    }
   ],
   "source": [
    "print(test_loss[0], test_loss[-1])"
   ]
  },
  {
   "cell_type": "code",
   "execution_count": 50,
   "metadata": {},
   "outputs": [
    {
     "name": "stdout",
     "output_type": "stream",
     "text": [
      "300\n"
     ]
    }
   ],
   "source": [
    "X = np.array(train_data[:-1][:])\n",
    "y = np.array(h_train)\n",
    "y = np.expand_dims(y, axis = 0)\n",
    "print(y.size)"
   ]
  },
  {
   "cell_type": "code",
   "execution_count": 54,
   "metadata": {},
   "outputs": [
    {
     "ename": "ValueError",
     "evalue": "shapes (300,3) and (300,1) not aligned: 3 (dim 1) != 300 (dim 0)",
     "output_type": "error",
     "traceback": [
      "\u001b[1;31m---------------------------------------------------------------------------\u001b[0m",
      "\u001b[1;31mValueError\u001b[0m                                Traceback (most recent call last)",
      "\u001b[1;32m<ipython-input-54-0f08dfdab7e5>\u001b[0m in \u001b[0;36m<module>\u001b[1;34m\u001b[0m\n\u001b[1;32m----> 1\u001b[1;33m \u001b[0mnp\u001b[0m\u001b[1;33m.\u001b[0m\u001b[0mdot\u001b[0m\u001b[1;33m(\u001b[0m\u001b[0mnp\u001b[0m\u001b[1;33m.\u001b[0m\u001b[0mdot\u001b[0m\u001b[1;33m(\u001b[0m\u001b[0mnp\u001b[0m\u001b[1;33m.\u001b[0m\u001b[0mlinalg\u001b[0m\u001b[1;33m.\u001b[0m\u001b[0minv\u001b[0m\u001b[1;33m(\u001b[0m\u001b[1;33m(\u001b[0m\u001b[0mnp\u001b[0m\u001b[1;33m.\u001b[0m\u001b[0mdot\u001b[0m\u001b[1;33m(\u001b[0m\u001b[0mX\u001b[0m\u001b[1;33m.\u001b[0m\u001b[0mtranspose\u001b[0m\u001b[1;33m(\u001b[0m\u001b[1;33m)\u001b[0m\u001b[1;33m,\u001b[0m \u001b[0mX\u001b[0m\u001b[1;33m)\u001b[0m\u001b[1;33m)\u001b[0m\u001b[1;33m)\u001b[0m\u001b[1;33m,\u001b[0m \u001b[0mX\u001b[0m\u001b[1;33m.\u001b[0m\u001b[0mtranspose\u001b[0m\u001b[1;33m(\u001b[0m\u001b[1;33m)\u001b[0m\u001b[1;33m)\u001b[0m\u001b[1;33m,\u001b[0m \u001b[0my\u001b[0m\u001b[1;33m.\u001b[0m\u001b[0mtranspose\u001b[0m\u001b[1;33m(\u001b[0m\u001b[1;33m)\u001b[0m\u001b[1;33m)\u001b[0m\u001b[1;33m\u001b[0m\u001b[1;33m\u001b[0m\u001b[0m\n\u001b[0m",
      "\u001b[1;32m<__array_function__ internals>\u001b[0m in \u001b[0;36mdot\u001b[1;34m(*args, **kwargs)\u001b[0m\n",
      "\u001b[1;31mValueError\u001b[0m: shapes (300,3) and (300,1) not aligned: 3 (dim 1) != 300 (dim 0)"
     ]
    }
   ],
   "source": [
    "np.dot(np.dot(np.linalg.inv((np.dot(X.transpose(), X))), X.transpose()), y.transpose())"
   ]
  },
  {
   "cell_type": "code",
   "execution_count": null,
   "metadata": {},
   "outputs": [],
   "source": []
  }
 ],
 "metadata": {
  "kernelspec": {
   "display_name": "Python 3",
   "language": "python",
   "name": "python3"
  },
  "language_info": {
   "codemirror_mode": {
    "name": "ipython",
    "version": 3
   },
   "file_extension": ".py",
   "mimetype": "text/x-python",
   "name": "python",
   "nbconvert_exporter": "python",
   "pygments_lexer": "ipython3",
   "version": "3.7.6"
  }
 },
 "nbformat": 4,
 "nbformat_minor": 4
}
