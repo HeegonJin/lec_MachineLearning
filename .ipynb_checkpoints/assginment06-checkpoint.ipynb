{
 "cells": [
  {
   "cell_type": "code",
   "execution_count": 3,
   "metadata": {},
   "outputs": [
    {
     "data": {
      "image/png": "[encoded data removed]",
      "text/plain": [
       "<Figure size 432x288 with 1 Axes>"
      ]
     },
     "metadata": {
      "needs_background": "light"
     },
     "output_type": "display_data"
    }
   ],
   "source": [
    "import numpy as np\n",
    "import matplotlib.pyplot as plt\n",
    "\n",
    "data    = np.genfromtxt(\"data-nonlinear.txt\", delimiter=',')\n",
    "\n",
    "pointX  = data[:, 0]\n",
    "pointY  = data[:, 1]\n",
    "label   = data[:, 2]\n",
    "\n",
    "pointX0 = pointX[label == 0]\n",
    "pointY0 = pointY[label == 0]\n",
    "\n",
    "pointX1 = pointX[label == 1]\n",
    "pointY1 = pointY[label == 1]\n",
    "\n",
    "plt.figure()\n",
    "plt.scatter(pointX0, pointY0, c='b')\n",
    "plt.scatter(pointX1, pointY1, c='r')\n",
    "plt.tight_layout()\n",
    "plt.gca().set_aspect('equal', adjustable='box')\n",
    "plt.show()"
   ]
  },
  {
   "cell_type": "markdown",
   "metadata": {},
   "source": [
    "# Write down the high dimensional function"
   ]
  },
  {
   "cell_type": "markdown",
   "metadata": {},
   "source": [
    "$g(x, y; \\theta) = \\theta_{0} + \\theta_{1} * x + \\theta_{2} * x^{2} + \\theta_{3} * y + \\theta_{4} * y^{2}   $"
   ]
  },
  {
   "cell_type": "code",
   "execution_count": 31,
   "metadata": {},
   "outputs": [],
   "source": [
    "def g(t0, t1, t2, t3, t4,t5,t6, x, y):\n",
    "    return t0 + t1 * x + t2 * (x ** 2) + t3 * y + t4 * (y ** 2) + t5 * x*y + t6 * (x**2)*(y**2)\n",
    "\n",
    "\n",
    "def sig(z):\n",
    "    return 1 / (1 + np.exp(-z))\n",
    "    \n",
    "    \n",
    "def obj(t0, t1, t2, t3, t4,t5,t6, X, Y, m):\n",
    "    error = 0\n",
    "    eps = 1e-12\n",
    "    for i in range(m):\n",
    "        error += (label[i] * np.log(1/(eps+sig(g(t0,t1,t2,t3,t4,t5,t6,X[i],Y[i]))))) + ((1-label[i]) * np.log(1/(eps+1-sig(g(t0,t1,t2,t3,t4,t5,t6,X[i],Y[i])))))\n",
    "    \n",
    "    error = error / m\n",
    "    return error\n",
    "    \n",
    "def gradient(t0,t1,t2,t3,t4,t5,t6,X,Y,m,lr):\n",
    "    temp = 0\n",
    "    for i in range(m):\n",
    "        temp += sig(g(t0,t1,t2,t3,t4,t5,t6,X[i],Y[i]))-label[i]\n",
    "    temp = temp / m\n",
    "    new_t0 = t0 - lr * temp\n",
    "    \n",
    "    temp = 0\n",
    "    for i in range(m):\n",
    "        temp += (sig(g(t0,t1,t2,t3,t4,t5,t6,X[i],Y[i]))-label[i])*X[i]\n",
    "    temp = temp / m\n",
    "    new_t1 = t1 - lr * temp\n",
    "    \n",
    "    temp = 0\n",
    "    for i in range(m):\n",
    "        temp += (sig(g(t0,t1,t2,t3,t4,t5,t6,X[i],Y[i]))-label[i])*(X[i] ** 2)\n",
    "    temp = temp / m\n",
    "    new_t2 = t2 - lr * temp\n",
    "    \n",
    "    temp = 0\n",
    "    for i in range(m):\n",
    "        temp += (sig(g(t0,t1,t2,t3,t4,t5,t6,X[i],Y[i]))-label[i])*Y[i]\n",
    "    temp = temp / m\n",
    "    new_t3 = t3 - lr * temp\n",
    "    \n",
    "    temp = 0\n",
    "    for i in range(m):\n",
    "        temp += (sig(g(t0,t1,t2,t3,t4,t5,t6,X[i],Y[i]))-label[i])*(Y[i] ** 2)\n",
    "    temp = temp / m\n",
    "    new_t4 = t4 - lr * temp\n",
    "    \n",
    "    temp = 0\n",
    "    for i in range(m):\n",
    "        temp += (sig(g(t0,t1,t2,t3,t4,t5,t6,X[i],Y[i]))-label[i])*(X[i]*Y[i])\n",
    "    temp = temp / m\n",
    "    new_t5 = t5 - lr * temp\n",
    "    \n",
    "    temp = 0\n",
    "    for i in range(m):\n",
    "        temp += (sig(g(t0,t1,t2,t3,t4,t5,t6,X[i],Y[i]))-label[i])*(Y[i] ** 2)*(X[i]**2)\n",
    "    temp = temp / m\n",
    "    new_t6 = t6 - lr * temp\n",
    "    \n",
    "    return new_t0, new_t1, new_t2, new_t3, new_t4, new_t5, new_t6\n",
    "\n",
    "\n",
    "def acc(t0,t1,t2,t3,t4,t5,t6,X,Y,m):\n",
    "    score = 0\n",
    "    for i in range(m):\n",
    "        if g(t0,t1,t2,t3,t4,t5,t6,X[i],Y[i]) >= 0 and label[i] == 1:\n",
    "            score += 1\n",
    "        elif g(t0,t1,t2,t3,t4,t5,t6,X[i],Y[i]) < 0 and label[i] == 0:\n",
    "            score += 1\n",
    "    return score / m"
   ]
  },
  {
   "cell_type": "markdown",
   "metadata": {},
   "source": [
    "# Plot the train error"
   ]
  },
  {
   "cell_type": "code",
   "execution_count": 47,
   "metadata": {
    "scrolled": true
   },
   "outputs": [
    {
     "name": "stdout",
     "output_type": "stream",
     "text": [
      "0.4830508474576271\n",
      "2.079312675492813 0.9224644836436346 -4.7505260298212635 1.3878475105720374 -4.235724612245566 -2.020064708711719 -1.514315222838682\n",
      "0.7966101694915254\n"
     ]
    }
   ],
   "source": [
    "m = len(label)\n",
    "lr = 0.005\n",
    "itermax = 50000\n",
    "itercount = 0\n",
    "loss = []\n",
    "t0,t1,t2,t3,t4,t5,t6, = np.random.randn(7)\n",
    "print(acc(t0,t1,t2,t3,t4,t5,t6,pointX,pointY,m))\n",
    "while True:\n",
    "    \n",
    "    if itercount > itermax:\n",
    "        break\n",
    "    loss.append(obj(t0, t1, t2, t3, t4,t5,t6, pointX, pointY, m))\n",
    "    t0,t1,t2,t3,t4,t5,t6 = gradient(t0,t1,t2,t3,t4,t5,t6,pointX,pointY,m,lr)\n",
    "    itercount += 1\n",
    "print(t0,t1,t2,t3,t4,t5,t6)\n",
    "\n",
    "print(acc(t0,t1,t2,t3,t4,t5,t6,pointX,pointY,m))"
   ]
  },
  {
   "cell_type": "code",
   "execution_count": 48,
   "metadata": {},
   "outputs": [
    {
     "data": {
      "text/plain": [
       "[<matplotlib.lines.Line2D at 0x18d79541908>]"
      ]
     },
     "execution_count": 48,
     "metadata": {},
     "output_type": "execute_result"
    },
    {
     "data": {
      "image/png": "[encoded data removed]",
      "text/plain": [
       "<Figure size 432x288 with 1 Axes>"
      ]
     },
     "metadata": {
      "needs_background": "light"
     },
     "output_type": "display_data"
    }
   ],
   "source": [
    "step = [i for i in range(itercount)]\n",
    "plt.plot(step, loss)"
   ]
  },
  {
   "cell_type": "code",
   "execution_count": 44,
   "metadata": {},
   "outputs": [
    {
     "data": {
      "text/plain": [
       "(0.8624751178496606,\n",
       " -0.1290508236760753,\n",
       " -2.0549802658210217,\n",
       " 0.1986950247592501,\n",
       " -1.3252031879749375,\n",
       " 0.9461877807794388,\n",
       " -0.9594262274735191)"
      ]
     },
     "execution_count": 44,
     "metadata": {},
     "output_type": "execute_result"
    }
   ],
   "source": [
    "t0,t1,t2,t3,t4,t5,t6"
   ]
  },
  {
   "cell_type": "code",
   "execution_count": null,
   "metadata": {},
   "outputs": [],
   "source": []
  }
 ],
 "metadata": {
  "kernelspec": {
   "display_name": "Python 3",
   "language": "python",
   "name": "python3"
  },
  "language_info": {
   "codemirror_mode": {
    "name": "ipython",
    "version": 3
   },
   "file_extension": ".py",
   "mimetype": "text/x-python",
   "name": "python",
   "nbconvert_exporter": "python",
   "pygments_lexer": "ipython3",
   "version": "3.7.6"
  }
 },
 "nbformat": 4,
 "nbformat_minor": 4
}
