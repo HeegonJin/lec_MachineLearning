{
 "cells": [
  {
   "cell_type": "code",
   "execution_count": 2,
   "metadata": {},
   "outputs": [
    {
     "data": {
      "image/png": "[encoded data removed]",
      "text/plain": [
       "<Figure size 432x288 with 1 Axes>"
      ]
     },
     "metadata": {
      "needs_background": "light"
     },
     "output_type": "display_data"
    }
   ],
   "source": [
    "import numpy as np\n",
    "import matplotlib.pyplot as plt\n",
    "\n",
    "data    = np.genfromtxt(\"data-nonlinear.txt\", delimiter=',')\n",
    "\n",
    "pointX  = data[:, 0]\n",
    "pointY  = data[:, 1]\n",
    "label   = data[:, 2]\n",
    "\n",
    "pointX0 = pointX[label == 0]\n",
    "pointY0 = pointY[label == 0]\n",
    "\n",
    "pointX1 = pointX[label == 1]\n",
    "pointY1 = pointY[label == 1]\n",
    "\n",
    "plt.figure()\n",
    "plt.scatter(pointX0, pointY0, c='b')\n",
    "plt.scatter(pointX1, pointY1, c='r')\n",
    "plt.tight_layout()\n",
    "plt.gca().set_aspect('equal', adjustable='box')\n",
    "plt.show()"
   ]
  },
  {
   "cell_type": "markdown",
   "metadata": {},
   "source": [
    "# Write down the high dimensional function"
   ]
  },
  {
   "cell_type": "markdown",
   "metadata": {},
   "source": [
    "$g(x, y; \\theta) = \\theta_{0} + \\theta_{1} * x + \\theta_{2} * x^{2} + \\theta_{3} * y + \\theta_{4} * y^{2}   $"
   ]
  },
  {
   "cell_type": "code",
   "execution_count": 34,
   "metadata": {},
   "outputs": [],
   "source": [
    "def g(t0, t1, t2, t3, t4, x, y):\n",
    "    return t0 + t1 * x + t2 * (x ** 2) + t3 * y + t4 * (y ** 2)\n",
    "\n",
    "\n",
    "def sig(z):\n",
    "    return 1 / (1 + np.exp(-z))\n",
    "    \n",
    "    \n",
    "def obj(t0, t1, t2, t3, t4, X, Y, m):\n",
    "    m = 118\n",
    "    error = 0\n",
    "    eps = 1e-12\n",
    "    for i in range(m):\n",
    "        error += (-label[i] * np.log(eps+sig(g(t0,t1,t2,t3,t4,X[i],Y[i])))) - ((1-label[i]) * np.log(eps+1-sig(g(t0,t1,t2,t3,t4,X[i],Y[i]))))\n",
    "    \n",
    "    error = error / m\n",
    "    return error\n",
    "    \n",
    "def gradient(t0,t1,t2,t3,t4,X,Y,m,lr):\n",
    "    m = 118\n",
    "    temp = 0\n",
    "    for i in range(m):\n",
    "        temp += sig(g(t0,t1,t2,t3,t4,X[i],Y[i])-label[i])\n",
    "    temp = temp / m\n",
    "    new_t0 = t0 - lr * temp\n",
    "    \n",
    "    temp = 0\n",
    "    for i in range(m):\n",
    "        temp += sig(g(t0,t1,t2,t3,t4,X[i],Y[i])-label[i])*X[i]\n",
    "    temp = temp / m\n",
    "    new_t1 = t1 - lr * temp\n",
    "    \n",
    "    temp = 0\n",
    "    for i in range(m):\n",
    "        temp += sig(g(t0,t1,t2,t3,t4,X[i],Y[i])-label[i])*(X[i] ** 2)\n",
    "    temp = temp / m\n",
    "    new_t2 = t2 - lr * temp\n",
    "    \n",
    "    temp = 0\n",
    "    for i in range(m):\n",
    "        temp += sig(g(t0,t1,t2,t3,t4,X[i],Y[i])-label[i])*Y[i]\n",
    "    temp = temp / m\n",
    "    new_t3 = t3 - lr * temp\n",
    "    \n",
    "    temp = 0\n",
    "    for i in range(m):\n",
    "        temp += sig(g(t0,t1,t2,t3,t4,X[i],Y[i])-label[i])*(Y[i] ** 2)\n",
    "    temp = temp / m\n",
    "    new_t4 = t4 - lr * temp\n",
    "    \n",
    "    return new_t0, new_t1, new_t2, new_t3, new_t4"
   ]
  },
  {
   "cell_type": "markdown",
   "metadata": {},
   "source": [
    "# Plot the train error"
   ]
  },
  {
   "cell_type": "code",
   "execution_count": 47,
   "metadata": {},
   "outputs": [],
   "source": [
    "m = len(label)\n",
    "lr = 0.001\n",
    "itermax = 10000\n",
    "itercount = 0\n",
    "loss = []\n",
    "t0,t1,t2,t3,t4 = np.random.randn(5)\n",
    "while True:\n",
    "    \n",
    "    if itercount > itermax:\n",
    "        break\n",
    "    loss.append(obj(t0, t1, t2, t3, t4, pointX, pointY, m))\n",
    "    t0,t1,t2,t3,t4 = gradient(t0,t1,t2,t3,t4,pointX,pointY,m,lr)\n",
    "    if itercount > 100 and abs(loss[-1] - loss[-2]) < 0.0000001:\n",
    "        break\n",
    "    itercount += 1\n",
    "    \n",
    "    "
   ]
  },
  {
   "cell_type": "code",
   "execution_count": 48,
   "metadata": {},
   "outputs": [
    {
     "data": {
      "text/plain": [
       "[<matplotlib.lines.Line2D at 0x239e658dbc8>]"
      ]
     },
     "execution_count": 48,
     "metadata": {},
     "output_type": "execute_result"
    },
    {
     "data": {
      "image/png": "[encoded data removed]",
      "text/plain": [
       "<Figure size 432x288 with 1 Axes>"
      ]
     },
     "metadata": {
      "needs_background": "light"
     },
     "output_type": "display_data"
    }
   ],
   "source": [
    "step = [i for i in range(itercount+1)]\n",
    "plt.plot(step, loss)"
   ]
  }
 ],
 "metadata": {
  "kernelspec": {
   "display_name": "Python 3",
   "language": "python",
   "name": "python3"
  },
  "language_info": {
   "codemirror_mode": {
    "name": "ipython",
    "version": 3
   },
   "file_extension": ".py",
   "mimetype": "text/x-python",
   "name": "python",
   "nbconvert_exporter": "python",
   "pygments_lexer": "ipython3",
   "version": "3.7.6"
  }
 },
 "nbformat": 4,
 "nbformat_minor": 4
}
