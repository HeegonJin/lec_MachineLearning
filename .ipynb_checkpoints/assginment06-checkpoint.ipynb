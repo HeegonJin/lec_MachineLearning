{
 "cells": [
  {
   "cell_type": "code",
   "execution_count": 3,
   "metadata": {},
   "outputs": [
    {
     "data": {
      "image/png": "[encoded data removed]",
      "text/plain": [
       "<Figure size 432x288 with 1 Axes>"
      ]
     },
     "metadata": {
      "needs_background": "light"
     },
     "output_type": "display_data"
    }
   ],
   "source": [
    "import numpy as np\n",
    "import matplotlib.pyplot as plt\n",
    "\n",
    "data    = np.genfromtxt(\"data-nonlinear.txt\", delimiter=',')\n",
    "\n",
    "pointX  = data[:, 0]\n",
    "pointY  = data[:, 1]\n",
    "label   = data[:, 2]\n",
    "\n",
    "pointX0 = pointX[label == 0]\n",
    "pointY0 = pointY[label == 0]\n",
    "\n",
    "pointX1 = pointX[label == 1]\n",
    "pointY1 = pointY[label == 1]\n",
    "\n",
    "plt.figure()\n",
    "plt.scatter(pointX0, pointY0, c='b')\n",
    "plt.scatter(pointX1, pointY1, c='r')\n",
    "plt.tight_layout()\n",
    "plt.gca().set_aspect('equal', adjustable='box')\n",
    "plt.show()"
   ]
  },
  {
   "cell_type": "markdown",
   "metadata": {},
   "source": [
    "# Write down the high dimensional function"
   ]
  },
  {
   "cell_type": "markdown",
   "metadata": {},
   "source": [
    "$g(x, y; \\theta) = \\theta_{0} + \\theta_{1} * x + \\theta_{2} * x^{2} + \\theta_{3} * y + \\theta_{4} * y^{2}   $"
   ]
  },
  {
   "cell_type": "code",
   "execution_count": 71,
   "metadata": {},
   "outputs": [],
   "source": [
    "def g(t0, t1, t2, t3, t4,t5,t6,t7,t8,t9, x, y):\n",
    "    return t0 + t1 * x + t2 * (x ** 2) + t3 * y + t4 * (y ** 2) + t5 * x*y + t6 * (x**2)*(y**2) + t7 * (x**1/2)+ t8 * (y**1/2) + t9 * (x**1/2) * (y**1/2)\n",
    "\n",
    "\n",
    "def sig(z):\n",
    "    return 1 / (1 + np.exp(-z))\n",
    "    \n",
    "    \n",
    "def obj(t0, t1, t2, t3, t4,t5,t6,t7,t8,t9, X, Y, m):\n",
    "    error = 0\n",
    "    eps = 1e-12\n",
    "    for i in range(m):\n",
    "        error += (label[i] * np.log(1/(eps+sig(g(t0,t1,t2,t3,t4,t5,t6,t7,t8,t9,X[i],Y[i]))))) + ((1-label[i]) * np.log(1/(eps+1-sig(g(t0,t1,t2,t3,t4,t5,t6,t7,t8,t9,X[i],Y[i])))))\n",
    "    \n",
    "    error = error / m\n",
    "    return error\n",
    "    \n",
    "def gradient(t0,t1,t2,t3,t4,t5,t6,t7,t8,t9,X,Y,m,lr):\n",
    "    temp = 0\n",
    "    for i in range(m):\n",
    "        temp += sig(g(t0,t1,t2,t3,t4,t5,t6,t7,t8,t9,X[i],Y[i]))-label[i]\n",
    "    temp = temp / m\n",
    "    new_t0 = t0 - lr * temp\n",
    "    \n",
    "    temp = 0\n",
    "    for i in range(m):\n",
    "        temp += (sig(g(t0,t1,t2,t3,t4,t5,t6,t7,t8,t9,X[i],Y[i]))-label[i])*X[i]\n",
    "    temp = temp / m\n",
    "    new_t1 = t1 - lr * temp\n",
    "    \n",
    "    temp = 0\n",
    "    for i in range(m):\n",
    "        temp += (sig(g(t0,t1,t2,t3,t4,t5,t6,t7,t8,t9,X[i],Y[i]))-label[i])*(X[i] ** 2)\n",
    "    temp = temp / m\n",
    "    new_t2 = t2 - lr * temp\n",
    "    \n",
    "    temp = 0\n",
    "    for i in range(m):\n",
    "        temp += (sig(g(t0,t1,t2,t3,t4,t5,t6,t7,t8,t9,X[i],Y[i]))-label[i])*Y[i]\n",
    "    temp = temp / m\n",
    "    new_t3 = t3 - lr * temp\n",
    "    \n",
    "    temp = 0\n",
    "    for i in range(m):\n",
    "        temp += (sig(g(t0,t1,t2,t3,t4,t5,t6,t7,t8,t9,X[i],Y[i]))-label[i])*(Y[i] ** 2)\n",
    "    temp = temp / m\n",
    "    new_t4 = t4 - lr * temp\n",
    "    \n",
    "    temp = 0\n",
    "    for i in range(m):\n",
    "        temp += (sig(g(t0,t1,t2,t3,t4,t5,t6,t7,t8,t9,X[i],Y[i]))-label[i])*(X[i]*Y[i])\n",
    "    temp = temp / m\n",
    "    new_t5 = t5 - lr * temp\n",
    "    \n",
    "    temp = 0\n",
    "    for i in range(m):\n",
    "        temp += (sig(g(t0,t1,t2,t3,t4,t5,t6,t7,t8,t9,X[i],Y[i]))-label[i])*(Y[i] ** 2)*(X[i]**2)\n",
    "    temp = temp / m\n",
    "    new_t6 = t6 - lr * temp\n",
    "    \n",
    "    temp = 0\n",
    "    for i in range(m):\n",
    "        temp += (sig(g(t0,t1,t2,t3,t4,t5,t6,t7,t8,t9,X[i],Y[i]))-label[i])*(X[i]**1/2)\n",
    "    temp = temp / m\n",
    "    new_t7 = t7 - lr * temp\n",
    "    \n",
    "    temp = 0\n",
    "    for i in range(m):\n",
    "        temp += (sig(g(t0,t1,t2,t3,t4,t5,t6,t7,t8,t9,X[i],Y[i]))-label[i])*(Y[i] ** 1/2)\n",
    "    temp = temp / m\n",
    "    new_t8 = t8 - lr * temp\n",
    "    \n",
    "    temp = 0\n",
    "    for i in range(m):\n",
    "        temp += (sig(g(t0,t1,t2,t3,t4,t5,t6,t7,t8,t9,X[i],Y[i]))-label[i])*(X[i]**1/2)*(Y[i] ** 1/2)\n",
    "    temp = temp / m\n",
    "    new_t9 = t9 - lr * temp\n",
    "    \n",
    "    return new_t0, new_t1, new_t2, new_t3, new_t4, new_t5, new_t6, new_t7, new_t8, new_t9\n",
    "\n",
    "def acc(t0,t1,t2,t3,t4,t5,t6,t7,t8,t9,X,Y,m):\n",
    "    score = 0\n",
    "    for i in range(m):\n",
    "        if g(t0,t1,t2,t3,t4,t5,t6,t7,t8,t9,X[i],Y[i]) >= 0 and label[i] == 1:\n",
    "            score += 1\n",
    "        elif g(t0,t1,t2,t3,t4,t5,t6,t7,t8,t9,X[i],Y[i]) < 0 and label[i] == 0:\n",
    "            score += 1\n",
    "    return score / m"
   ]
  },
  {
   "cell_type": "markdown",
   "metadata": {},
   "source": [
    "# Plot the train error"
   ]
  },
  {
   "cell_type": "code",
   "execution_count": 105,
   "metadata": {
    "scrolled": true
   },
   "outputs": [
    {
     "name": "stdout",
     "output_type": "stream",
     "text": [
      "0.5\n"
     ]
    }
   ],
   "source": [
    "m = len(label)\n",
    "lr = 0.01\n",
    "itermax = 10000\n",
    "itercount = 0\n",
    "loss = []\n",
    "accuracy = []\n",
    "t0,t1,t2,t3,t4,t5,t6,t7,t8,t9 = np.random.randn(10)\n",
    "print(acc(t0,t1,t2,t3,t4,t5,t6,t7,t8,t9,pointX,pointY,m))\n",
    "while True:\n",
    "    \n",
    "    if itercount > itermax:\n",
    "        break\n",
    "    loss.append(obj(t0, t1, t2, t3, t4,t5,t6,t7,t8,t9, pointX, pointY, m))\n",
    "    accuracy.append(acc(t0,t1,t2,t3,t4,t5,t6,t7,t8,t9,pointX,pointY,m))\n",
    "    t0,t1,t2,t3,t4,t5,t6,t7,t8,t9 = gradient(t0,t1,t2,t3,t4,t5,t6,t7,t8,t9,pointX,pointY,m,lr)\n",
    "    itercount += 1\n",
    "    "
   ]
  },
  {
   "cell_type": "code",
   "execution_count": 106,
   "metadata": {},
   "outputs": [
    {
     "data": {
      "text/plain": [
       "[<matplotlib.lines.Line2D at 0x18d7af582c8>]"
      ]
     },
     "execution_count": 106,
     "metadata": {},
     "output_type": "execute_result"
    },
    {
     "data": {
      "image/png": "[encoded data removed]",
      "text/plain": [
       "<Figure size 432x288 with 1 Axes>"
      ]
     },
     "metadata": {
      "needs_background": "light"
     },
     "output_type": "display_data"
    }
   ],
   "source": [
    "step = [i for i in range(itercount)]\n",
    "plt.plot(step, loss)\n",
    "plt.plot(step, accuracy)"
   ]
  },
  {
   "cell_type": "code",
   "execution_count": 107,
   "metadata": {},
   "outputs": [
    {
     "data": {
      "text/plain": [
       "(1.4478820846105107,\n",
       " 0.3330025886426318,\n",
       " -3.4537798346330124,\n",
       " -0.07765350805876711,\n",
       " -2.7452436873840185,\n",
       " -0.9319210170907798,\n",
       " -1.2056697967002288,\n",
       " 0.3534212638088175,\n",
       " 1.8487691614895698,\n",
       " -0.5119511796620442,\n",
       " -0.6339413331661264,\n",
       " 0.7360122592716526)"
      ]
     },
     "execution_count": 107,
     "metadata": {},
     "output_type": "execute_result"
    }
   ],
   "source": [
    "t0,t1,t2,t3,t4,t5,t6,t7,t8,t9,t10,t11"
   ]
  },
  {
   "cell_type": "code",
   "execution_count": 108,
   "metadata": {
    "scrolled": true
   },
   "outputs": [
    {
     "data": {
      "text/plain": [
       "0.8050847457627118"
      ]
     },
     "execution_count": 108,
     "metadata": {},
     "output_type": "execute_result"
    }
   ],
   "source": [
    "accuracy[-1]"
   ]
  },
  {
   "cell_type": "code",
   "execution_count": 102,
   "metadata": {},
   "outputs": [
    {
     "data": {
      "text/plain": [
       "7546"
      ]
     },
     "execution_count": 102,
     "metadata": {},
     "output_type": "execute_result"
    }
   ],
   "source": [
    "itercount"
   ]
  },
  {
   "cell_type": "code",
   "execution_count": 103,
   "metadata": {},
   "outputs": [
    {
     "data": {
      "text/plain": [
       "0.5113526611280496"
      ]
     },
     "execution_count": 103,
     "metadata": {},
     "output_type": "execute_result"
    }
   ],
   "source": [
    "loss[-1]"
   ]
  },
  {
   "cell_type": "code",
   "execution_count": 104,
   "metadata": {},
   "outputs": [
    {
     "data": {
      "text/plain": [
       "0.5113626606427207"
      ]
     },
     "execution_count": 104,
     "metadata": {},
     "output_type": "execute_result"
    }
   ],
   "source": [
    "loss[-2]"
   ]
  }
 ],
 "metadata": {
  "kernelspec": {
   "display_name": "Python 3",
   "language": "python",
   "name": "python3"
  },
  "language_info": {
   "codemirror_mode": {
    "name": "ipython",
    "version": 3
   },
   "file_extension": ".py",
   "mimetype": "text/x-python",
   "name": "python",
   "nbconvert_exporter": "python",
   "pygments_lexer": "ipython3",
   "version": "3.7.6"
  }
 },
 "nbformat": 4,
 "nbformat_minor": 4
}
