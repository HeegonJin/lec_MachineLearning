{
 "cells": [
  {
   "cell_type": "code",
   "execution_count": 51,
   "metadata": {},
   "outputs": [],
   "source": [
    "import matplotlib as mpl\n",
    "import matplotlib.pyplot as plt\n",
    "import numpy as np\n",
    "import pandas as pd\n",
    "import random\n",
    "%matplotlib inline"
   ]
  },
  {
   "cell_type": "code",
   "execution_count": 52,
   "metadata": {
    "scrolled": true
   },
   "outputs": [
    {
     "data": {
      "image/png": "[encoded data removed]",
      "text/plain": [
       "<Figure size 576x576 with 1 Axes>"
      ]
     },
     "metadata": {
      "needs_background": "light"
     },
     "output_type": "display_data"
    }
   ],
   "source": [
    "data    = np.genfromtxt(\"data.txt\", delimiter=',')\n",
    "\n",
    "x       = data[:, 0]\n",
    "y       = data[:, 1]\n",
    "label   = data[:, 2]\n",
    "\n",
    "x_label0    = x[label == 0]\n",
    "x_label1    = x[label == 1]\n",
    "\n",
    "y_label0    = y[label == 0]\n",
    "y_label1    = y[label == 1]\n",
    "\n",
    "plt.figure(figsize=(8, 8))\n",
    "plt.scatter(x_label0, y_label0, alpha=0.3, c='b')\n",
    "plt.scatter(x_label1, y_label1, alpha=0.3, c='r')\n",
    "plt.show()"
   ]
  },
  {
   "cell_type": "code",
   "execution_count": 63,
   "metadata": {},
   "outputs": [],
   "source": [
    "def Z(theta0, theta1, theta2, x, y):\n",
    "    return theta0 + theta1 * x + theta2 * y\n",
    "\n",
    "def sigmoid(z):\n",
    "    return (1 / (1 + np.exp(-z)))\n",
    "    \n",
    "def objective(theta0, theta1, theta2, m):\n",
    "    epsilon = 1e-12\n",
    "    result = 0\n",
    "    for i in range(m):\n",
    "        result += label[i]*np.log(1/(epsilon+sigmoid(Z(theta0,theta1,theta2,x[i],y[i])))) + (1-label[i])*np.log(1/(epsilon+1-sigmoid(Z(theta0,theta1,theta2,x[i],y[i]))))\n",
    "    result = result / m\n",
    "    return result\n",
    "\n",
    "def grad(theta0,theta1,theta2,m,lr):\n",
    "    temp = 0\n",
    "    for i in range(m):\n",
    "        temp += (sigmoid(Z(theta0,theta1,theta2,x[i],y[i]))-label[i])\n",
    "    new_theta0 = theta0 - lr * temp / m\n",
    "    \n",
    "    temp = 0\n",
    "    for i in range(m):\n",
    "        temp += (sigmoid(Z(theta0,theta1,theta2,x[i],y[i]))-label[i])*x[i]\n",
    "    new_theta1 = theta1- lr * temp / m\n",
    "    \n",
    "    temp = 0\n",
    "    for i in range(m):\n",
    "        temp += (sigmoid(Z(theta0,theta1,theta2,x[i],y[i]))-label[i])*y[i]\n",
    "    new_theta2 = theta2 - lr * temp / m\n",
    "    \n",
    "    return new_theta0, new_theta1, new_theta2"
   ]
  },
  {
   "cell_type": "code",
   "execution_count": 96,
   "metadata": {},
   "outputs": [],
   "source": [
    "m = data.size//3\n",
    "lr = 0.0001\n",
    "theta0, theta1,theta2 = np.random.randn(3)\n",
    "t0, t1, t2 = list(),list(),list()\n",
    "loss = []\n",
    "itercount = 0\n",
    "itermax = 10000\n",
    "\n",
    "while True:\n",
    "    \n",
    "    if itercount>itermax:\n",
    "        break\n",
    "    \n",
    "    t0.append(theta0)\n",
    "    t1.append(theta1)\n",
    "    t2.append(theta2)\n",
    "    loss.append(objective(theta0, theta1, theta2, m))\n",
    "    theta0, theta1, theta2 = grad(theta0,theta1,theta2,m,lr)\n",
    "    \n",
    "    itercount += 1\n",
    "    if loss[-1]<1 and abs(loss[-1]-loss[-2]) <0.00001:\n",
    "        break\n",
    "        \n",
    "    "
   ]
  },
  {
   "cell_type": "code",
   "execution_count": 97,
   "metadata": {
    "scrolled": true
   },
   "outputs": [
    {
     "data": {
      "text/plain": [
       "2596"
      ]
     },
     "execution_count": 97,
     "metadata": {},
     "output_type": "execute_result"
    }
   ],
   "source": [
    "itercount"
   ]
  },
  {
   "cell_type": "code",
   "execution_count": 99,
   "metadata": {
    "scrolled": false
   },
   "outputs": [
    {
     "data": {
      "text/plain": [
       "[<matplotlib.lines.Line2D at 0x1d2ad96fe48>]"
      ]
     },
     "execution_count": 99,
     "metadata": {},
     "output_type": "execute_result"
    },
    {
     "data": {
      "image/png": "[encoded data removed]",
      "text/plain": [
       "<Figure size 432x288 with 1 Axes>"
      ]
     },
     "metadata": {
      "needs_background": "light"
     },
     "output_type": "display_data"
    }
   ],
   "source": [
    "step = np.arange(0,itercount,1)\n",
    "plt.plot(step,loss, c= 'b')"
   ]
  },
  {
   "cell_type": "code",
   "execution_count": null,
   "metadata": {},
   "outputs": [],
   "source": []
  }
 ],
 "metadata": {
  "kernelspec": {
   "display_name": "Python 3",
   "language": "python",
   "name": "python3"
  },
  "language_info": {
   "codemirror_mode": {
    "name": "ipython",
    "version": 3
   },
   "file_extension": ".py",
   "mimetype": "text/x-python",
   "name": "python",
   "nbconvert_exporter": "python",
   "pygments_lexer": "ipython3",
   "version": "3.7.6"
  }
 },
 "nbformat": 4,
 "nbformat_minor": 4
}
