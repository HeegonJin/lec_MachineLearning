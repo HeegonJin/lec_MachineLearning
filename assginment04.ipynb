{
 "cells": [
  {
   "cell_type": "code",
   "execution_count": 1,
   "metadata": {},
   "outputs": [],
   "source": [
    "import matplotlib as mpl\n",
    "import matplotlib.pyplot as plt\n",
    "import numpy as np\n",
    "import pandas as pd\n",
    "import random\n",
    "%matplotlib inline"
   ]
  },
  {
   "cell_type": "code",
   "execution_count": 2,
   "metadata": {
    "scrolled": true
   },
   "outputs": [],
   "source": [
    "train_path = \"data_train.csv\"\n",
    "test_path = \"data_test.csv\"\n"
   ]
  },
  {
   "cell_type": "code",
   "execution_count": 3,
   "metadata": {
    "scrolled": true
   },
   "outputs": [],
   "source": [
    "import csv\n",
    "train_data = []\n",
    "test_data = []\n",
    "\n",
    "f = open(train_path, 'r')\n",
    "rdf = csv.reader(f)\n",
    "for line in rdf:\n",
    "    cvtline = []\n",
    "    for word in line:\n",
    "        cvtword = word.replace(\"'\",\"\")\n",
    "        cvtline.append(cvtword)\n",
    "    train_data.append(cvtline)\n",
    "\n",
    "f = open(test_path, 'r')\n",
    "rdf = csv.reader(f)\n",
    "for line in rdf:\n",
    "    cvtline = []\n",
    "    for word in line:\n",
    "        cvtword = word.replace(\"'\",\"\")\n",
    "        cvtline.append(cvtword)\n",
    "    test_data.append(cvtline)\n",
    "\n",
    "train_data = np.array(train_data).astype(np.float)\n",
    "test_data = np.array(test_data).astype(np.float)\n",
    "train_data = np.transpose(train_data).astype(np.float)\n",
    "test_data = np.transpose(test_data).astype(np.float)"
   ]
  },
  {
   "cell_type": "code",
   "execution_count": 4,
   "metadata": {},
   "outputs": [],
   "source": [
    "x_train = train_data[:][0]\n",
    "y_train = train_data[:][1]\n",
    "z_train = train_data[:][2]\n",
    "h_train = train_data[:][3]\n",
    "x_test = test_data[:][0]\n",
    "y_test = test_data[:][1]\n",
    "z_test = test_data[:][2]\n",
    "h_test = test_data[:][3]"
   ]
  },
  {
   "cell_type": "code",
   "execution_count": 14,
   "metadata": {},
   "outputs": [],
   "source": [
    "#defining functions\n",
    "def Linear_Model(x, y, z, theta0, theta1, theta2,theta3): #Linear function\n",
    "    return (theta0 + theta1 * x + theta2 * y + theta3 * z)\n",
    "\n",
    "\n",
    "def Objective_Function(x_data,y_data,z_data, h_data, theta0, theta1, theta2, theta3):#object function (loss function)\n",
    "    result = 0\n",
    "    for i in range(len(x_data)):\n",
    "        result += (Linear_Model(x_data[i],y_data[i],z_data[i], theta0, theta1, theta2, theta3) - h_data[i])**2\n",
    "    result /= 2* len(x_data)\n",
    "    return result\n",
    "\n",
    "\n",
    "def Gradient_Descent(m, lr, x_data,y_data,z_data, h_data, theta0, theta1, theta2, theta3): # derivative of loss funciton \n",
    "    temp = 0\n",
    "    for i in range(m):\n",
    "        temp += Linear_Model(x_data[i],y_data[i],z_data[i], theta0, theta1, theta2, theta3) - h_data[i]\n",
    "    new_theta0 = theta0 - lr * temp / m\n",
    "    \n",
    "    temp = 0\n",
    "    for i in range(m):\n",
    "        temp += (Linear_Model(x_data[i],y_data[i],z_data[i], theta0, theta1, theta2, theta3) - h_data[i])*x_data[i]\n",
    "    new_theta1 = theta1 - lr * temp / m\n",
    "    \n",
    "    temp = 0\n",
    "    for i in range(m):\n",
    "        temp += (Linear_Model(x_data[i],y_data[i],z_data[i], theta0, theta1, theta2, theta3) - h_data[i])*y_data[i]\n",
    "    new_theta2 = theta2 - lr * temp / m\n",
    "    \n",
    "    temp = 0\n",
    "    for i in range(m):\n",
    "        temp += (Linear_Model(x_data[i],y_data[i],z_data[i], theta0, theta1, theta2, theta3) - h_data[i])*z_data[i]\n",
    "    new_theta3 = theta3 - lr * temp / m\n",
    "    \n",
    "    theta0 = new_theta0\n",
    "    theta1 = new_theta1\n",
    "    theta2 = new_theta2\n",
    "    theta3 = new_theta3\n",
    "    #theta values updated simultaneously, after calculation\n",
    "    \n",
    "    return theta0, theta1, theta2, theta3"
   ]
  },
  {
   "cell_type": "code",
   "execution_count": 74,
   "metadata": {},
   "outputs": [],
   "source": [
    "theta0, theta1, theta2, theta3 = np.random.rand(4)\n",
    "m = len(x_train)\n",
    "lr = 0.00001\n",
    "train_loss = []\n",
    "test_loss = []\n",
    "theta = []\n",
    "\n",
    "itermax = 10000\n",
    "itercount = 0\n",
    "while True: # changing theta values using gradient descent\n",
    "    \n",
    "    if itercount >= itermax: #if more than 1000 iter, break the loop\n",
    "        break\n",
    "    \n",
    "    train_loss.append(Objective_Function(x_train,y_train,z_train,h_train, theta0, theta1,theta2,theta3))\n",
    "    test_loss.append(Objective_Function(x_test,y_test,z_test,h_test, theta0, theta1,theta2,theta3))\n",
    "    theta0, theta1, theta2, theta3 = Gradient_Descent(m,lr,x_train,y_train,z_train,h_train,theta0,theta1,theta2,theta3)\n",
    "    theta.append((theta0, theta1,theta2,theta3))\n",
    "    \n",
    "    if len(train_loss) > 2 and abs(train_loss[-1] - train_loss[-2]) < 0.001: #check if the value converges\n",
    "        break\n",
    "    \n",
    "    itercount += 1\n",
    "    "
   ]
  },
  {
   "cell_type": "code",
   "execution_count": 75,
   "metadata": {},
   "outputs": [
    {
     "name": "stdout",
     "output_type": "stream",
     "text": [
      "30516.94430956522\n"
     ]
    }
   ],
   "source": [
    "print(train_loss[0])"
   ]
  },
  {
   "cell_type": "code",
   "execution_count": 76,
   "metadata": {},
   "outputs": [
    {
     "name": "stdout",
     "output_type": "stream",
     "text": [
      "106.24536974626584\n"
     ]
    }
   ],
   "source": [
    "print(train_loss[-1])"
   ]
  },
  {
   "cell_type": "code",
   "execution_count": 77,
   "metadata": {},
   "outputs": [
    {
     "name": "stdout",
     "output_type": "stream",
     "text": [
      "30284.65607826294\n"
     ]
    }
   ],
   "source": [
    "print(test_loss[0])"
   ]
  },
  {
   "cell_type": "code",
   "execution_count": 78,
   "metadata": {},
   "outputs": [
    {
     "name": "stdout",
     "output_type": "stream",
     "text": [
      "5.813032722556254\n"
     ]
    }
   ],
   "source": [
    "print(test_loss[-1])"
   ]
  },
  {
   "cell_type": "code",
   "execution_count": 79,
   "metadata": {},
   "outputs": [
    {
     "name": "stdout",
     "output_type": "stream",
     "text": [
      "6119\n"
     ]
    }
   ],
   "source": [
    "print(itercount)"
   ]
  },
  {
   "cell_type": "code",
   "execution_count": null,
   "metadata": {},
   "outputs": [],
   "source": []
  }
 ],
 "metadata": {
  "kernelspec": {
   "display_name": "Python 3",
   "language": "python",
   "name": "python3"
  },
  "language_info": {
   "codemirror_mode": {
    "name": "ipython",
    "version": 3
   },
   "file_extension": ".py",
   "mimetype": "text/x-python",
   "name": "python",
   "nbconvert_exporter": "python",
   "pygments_lexer": "ipython3",
   "version": "3.7.6"
  }
 },
 "nbformat": 4,
 "nbformat_minor": 4
}
