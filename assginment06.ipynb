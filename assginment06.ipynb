{
 "cells": [
  {
   "cell_type": "code",
   "execution_count": 3,
   "metadata": {},
   "outputs": [
    {
     "data": {
      "image/png": "[encoded data removed]",
      "text/plain": [
       "<Figure size 432x288 with 1 Axes>"
      ]
     },
     "metadata": {
      "needs_background": "light"
     },
     "output_type": "display_data"
    }
   ],
   "source": [
    "import numpy as np\n",
    "import matplotlib.pyplot as plt\n",
    "\n",
    "data    = np.genfromtxt(\"data-nonlinear.txt\", delimiter=',')\n",
    "\n",
    "pointX  = data[:, 0]\n",
    "pointY  = data[:, 1]\n",
    "label   = data[:, 2]\n",
    "\n",
    "pointX0 = pointX[label == 0]\n",
    "pointY0 = pointY[label == 0]\n",
    "\n",
    "pointX1 = pointX[label == 1]\n",
    "pointY1 = pointY[label == 1]\n",
    "\n",
    "plt.figure()\n",
    "plt.scatter(pointX0, pointY0, c='b')\n",
    "plt.scatter(pointX1, pointY1, c='r')\n",
    "plt.tight_layout()\n",
    "plt.gca().set_aspect('equal', adjustable='box')\n",
    "plt.show()"
   ]
  },
  {
   "cell_type": "markdown",
   "metadata": {},
   "source": [
    "# Write down the high dimensional function"
   ]
  },
  {
   "cell_type": "markdown",
   "metadata": {},
   "source": [
    "$g(x, y; \\theta) = \\theta_{0} + \\theta_{1} * x + \\theta_{2} * x^{2} + \\theta_{3} * y + \\theta_{4} * y^{2}   $"
   ]
  },
  {
   "cell_type": "code",
   "execution_count": 4,
   "metadata": {},
   "outputs": [],
   "source": [
    "def g(t0, t1, t2, t3, t4,t5,t6,t7,t8,t9,t10,t11,t12,t13,t14,t15, x, y):\n",
    "    return t0 + t1 * x + t2 * (x ** 2) + t3 * y + t4 * (y ** 2) + t5 * x*y + t6 * (x**2)*(y**2) + t7 * (x**1/2)+ t8 * (y**1/2) + t9 * (x**1/2) * (y**1/2) + t10 * (x**1/3) + t11 * (y**1/3) + t12 * (x**1/3)*(y**1/3) + t13 * (x**2/3) * (y*1/3) + t14 * (x**1/3)* (y**2/3) + t15 * (x**2/3) *(y**2/3)\n",
    "def sig(z):\n",
    "    return 1 / (1 + np.exp(-z))\n",
    "    \n",
    "    \n",
    "def obj(t0, t1, t2, t3, t4,t5,t6,t7,t8,t9,t10,t11,t12,t13,t14,t15, X, Y, m):\n",
    "    error = 0\n",
    "    eps = 1e-12\n",
    "    for i in range(m):\n",
    "        error += (label[i] * np.log(1/(eps+sig(g(t0,t1,t2,t3,t4,t5,t6,t7,t8,t9,t10,t11,t12,t13,t14,t15,X[i],Y[i]))))) + ((1-label[i]) * np.log(1/(eps+1-sig(g(t0,t1,t2,t3,t4,t5,t6,t7,t8,t9,t10,t11,t12,t13,t14,t15,X[i],Y[i])))))\n",
    "    \n",
    "    error = error / m\n",
    "    return error\n",
    "    \n",
    "def gradient(t0,t1,t2,t3,t4,t5,t6,t7,t8,t9,t10,t11,t12,t13,t14,t15,X,Y,m,lr):\n",
    "    temp = 0\n",
    "    for i in range(m):\n",
    "        temp += sig(g(t0,t1,t2,t3,t4,t5,t6,t7,t8,t9,t10,t11,t12,t13,t14,t15,X[i],Y[i]))-label[i]\n",
    "    temp = temp / m\n",
    "    new_t0 = t0 - lr * temp\n",
    "    \n",
    "    temp = 0\n",
    "    for i in range(m):\n",
    "        temp += (sig(g(t0,t1,t2,t3,t4,t5,t6,t7,t8,t9,t10,t11,t12,t13,t14,t15,X[i],Y[i]))-label[i])*X[i]\n",
    "    temp = temp / m\n",
    "    new_t1 = t1 - lr * temp\n",
    "    \n",
    "    temp = 0\n",
    "    for i in range(m):\n",
    "        temp += (sig(g(t0,t1,t2,t3,t4,t5,t6,t7,t8,t9,t10,t11,t12,t13,t14,t15,X[i],Y[i]))-label[i])*(X[i] ** 2)\n",
    "    temp = temp / m\n",
    "    new_t2 = t2 - lr * temp\n",
    "    \n",
    "    temp = 0\n",
    "    for i in range(m):\n",
    "        temp += (sig(g(t0,t1,t2,t3,t4,t5,t6,t7,t8,t9,t10,t11,t12,t13,t14,t15,X[i],Y[i]))-label[i])*Y[i]\n",
    "    temp = temp / m\n",
    "    new_t3 = t3 - lr * temp\n",
    "    \n",
    "    temp = 0\n",
    "    for i in range(m):\n",
    "        temp += (sig(g(t0,t1,t2,t3,t4,t5,t6,t7,t8,t9,t10,t11,t12,t13,t14,t15,X[i],Y[i]))-label[i])*(Y[i] ** 2)\n",
    "    temp = temp / m\n",
    "    new_t4 = t4 - lr * temp\n",
    "    \n",
    "    temp = 0\n",
    "    for i in range(m):\n",
    "        temp += (sig(g(t0,t1,t2,t3,t4,t5,t6,t7,t8,t9,t10,t11,t12,t13,t14,t15,X[i],Y[i]))-label[i])*(X[i]*Y[i])\n",
    "    temp = temp / m\n",
    "    new_t5 = t5 - lr * temp\n",
    "    \n",
    "    temp = 0\n",
    "    for i in range(m):\n",
    "        temp += (sig(g(t0,t1,t2,t3,t4,t5,t6,t7,t8,t9,t10,t11,t12,t13,t14,t15,X[i],Y[i]))-label[i])*(Y[i] ** 2)*(X[i]**2)\n",
    "    temp = temp / m\n",
    "    new_t6 = t6 - lr * temp\n",
    "    \n",
    "    temp = 0\n",
    "    for i in range(m):\n",
    "        temp += (sig(g(t0,t1,t2,t3,t4,t5,t6,t7,t8,t9,t10,t11,t12,t13,t14,t15,X[i],Y[i]))-label[i])*(X[i]**1/2)\n",
    "    temp = temp / m\n",
    "    new_t7 = t7 - lr * temp\n",
    "    \n",
    "    temp = 0\n",
    "    for i in range(m):\n",
    "        temp += (sig(g(t0,t1,t2,t3,t4,t5,t6,t7,t8,t9,t10,t11,t12,t13,t14,t15,X[i],Y[i]))-label[i])*(Y[i] ** 1/2)\n",
    "    temp = temp / m\n",
    "    new_t8 = t8 - lr * temp\n",
    "    \n",
    "    temp = 0\n",
    "    for i in range(m):\n",
    "        temp += (sig(g(t0,t1,t2,t3,t4,t5,t6,t7,t8,t9,t10,t11,t12,t13,t14,t15,X[i],Y[i]))-label[i])*(X[i]**1/2)*(Y[i] ** 1/2)\n",
    "    temp = temp / m\n",
    "    new_t9 = t9 - lr * temp\n",
    "    \n",
    "    temp = 0\n",
    "    for i in range(m):\n",
    "        temp += (sig(g(t0,t1,t2,t3,t4,t5,t6,t7,t8,t9,t10,t11,t12,t13,t14,t15,X[i],Y[i]))-label[i])*(X[i]**1/3)\n",
    "    temp = temp / m\n",
    "    new_t10 = t10 - lr * temp\n",
    "    \n",
    "    temp = 0\n",
    "    for i in range(m):\n",
    "        temp += (sig(g(t0,t1,t2,t3,t4,t5,t6,t7,t8,t9,t10,t11,t12,t13,t14,t15,X[i],Y[i]))-label[i])*(Y[i] ** 1/3)\n",
    "    temp = temp / m\n",
    "    new_t11 = t11 - lr * temp\n",
    "    \n",
    "    temp = 0\n",
    "    for i in range(m):\n",
    "        temp += (sig(g(t0,t1,t2,t3,t4,t5,t6,t7,t8,t9,t10,t11,t12,t13,t14,t15,X[i],Y[i]))-label[i])*(X[i]**1/3)*(Y[i] ** 1/3)\n",
    "    temp = temp / m\n",
    "    new_t12 = t12 - lr * temp\n",
    "    \n",
    "    temp = 0\n",
    "    for i in range(m):\n",
    "        temp += (sig(g(t0,t1,t2,t3,t4,t5,t6,t7,t8,t9,t10,t11,t12,t13,t14,t15,X[i],Y[i]))-label[i])*(X[i]**2/3)*(Y[i] ** 1/3)\n",
    "    temp = temp / m\n",
    "    new_t13 = t13 - lr * temp\n",
    "    \n",
    "    temp = 0\n",
    "    for i in range(m):\n",
    "        temp += (sig(g(t0,t1,t2,t3,t4,t5,t6,t7,t8,t9,t10,t11,t12,t13,t14,t15,X[i],Y[i]))-label[i])*(X[i]**1/3)*(Y[i] ** 2/3)\n",
    "    temp = temp / m\n",
    "    new_t14 = t14 - lr * temp\n",
    "    \n",
    "    temp = 0\n",
    "    for i in range(m):\n",
    "        temp += (sig(g(t0,t1,t2,t3,t4,t5,t6,t7,t8,t9,t10,t11,t12,t13,t14,t15,X[i],Y[i]))-label[i])*(X[i]**2/3)*(Y[i] ** 2/3)\n",
    "    temp = temp / m\n",
    "    new_t15 = t15 - lr * temp\n",
    "    \n",
    "    \n",
    "    return new_t0, new_t1, new_t2, new_t3, new_t4, new_t5, new_t6, new_t7, new_t8, new_t9, new_t10, new_t11,new_t12, new_t13, new_t14, new_t15\n",
    "\n",
    "def acc(t0,t1,t2,t3,t4,t5,t6,t7,t8,t9,t10,t11,t12,t13,t14,t15,X,Y,m):\n",
    "    score = 0\n",
    "    for i in range(m):\n",
    "        if g(t0,t1,t2,t3,t4,t5,t6,t7,t8,t9,t10,t11,t12,t13,t14,t15,X[i],Y[i]) >= 0 and label[i] == 1:\n",
    "            score += 1\n",
    "        elif g(t0,t1,t2,t3,t4,t5,t6,t7,t8,t9,t10,t11,t12,t13,t14,t15,X[i],Y[i]) < 0 and label[i] == 0:\n",
    "            score += 1\n",
    "    return score / m"
   ]
  },
  {
   "cell_type": "markdown",
   "metadata": {},
   "source": [
    "# Plot the train error"
   ]
  },
  {
   "cell_type": "code",
   "execution_count": 6,
   "metadata": {
    "scrolled": true
   },
   "outputs": [
    {
     "name": "stdout",
     "output_type": "stream",
     "text": [
      "0.5423728813559322\n"
     ]
    }
   ],
   "source": [
    "m = len(label)\n",
    "lr = 0.01\n",
    "itermax = 100000\n",
    "itercount = 0\n",
    "loss = []\n",
    "accuracy = []\n",
    "t0,t1,t2,t3,t4,t5,t6,t7,t8,t9,t10,t11,t12,t13,t14,t15 = np.random.randn(16)\n",
    "print(acc(t0,t1,t2,t3,t4,t5,t6,t7,t8,t9,t10,t11,t12,t13,t14,t15,pointX,pointY,m))\n",
    "while True:\n",
    "    \n",
    "    if itercount > itermax:\n",
    "        break\n",
    "    loss.append(obj(t0, t1, t2, t3, t4,t5,t6,t7,t8,t9,t10,t11,t12,t13,t14,t15,pointX, pointY, m))\n",
    "    accuracy.append(acc(t0,t1,t2,t3,t4,t5,t6,t7,t8,t9,t10,t11,t12,t13,t14,t15,pointX,pointY,m))\n",
    "    t0,t1,t2,t3,t4,t5,t6,t7,t8,t9,t10,t11,t12,t13,t14,t15 = gradient(t0,t1,t2,t3,t4,t5,t6,t7,t8,t9,t10,t11,t12,t13,t14,t15,pointX,pointY,m,lr)\n",
    "    itercount += 1\n",
    "    "
   ]
  },
  {
   "cell_type": "code",
   "execution_count": 7,
   "metadata": {},
   "outputs": [
    {
     "data": {
      "text/plain": [
       "[<matplotlib.lines.Line2D at 0x1b2c686ac88>]"
      ]
     },
     "execution_count": 7,
     "metadata": {},
     "output_type": "execute_result"
    },
    {
     "data": {
      "image/png": "[encoded data removed]",
      "text/plain": [
       "<Figure size 432x288 with 1 Axes>"
      ]
     },
     "metadata": {
      "needs_background": "light"
     },
     "output_type": "display_data"
    }
   ],
   "source": [
    "step = [i for i in range(itercount)]\n",
    "plt.plot(step, loss)\n",
    "plt.plot(step, accuracy)"
   ]
  },
  {
   "cell_type": "code",
   "execution_count": 8,
   "metadata": {
    "scrolled": true
   },
   "outputs": [
    {
     "data": {
      "text/plain": [
       "0.847457627118644"
      ]
     },
     "execution_count": 8,
     "metadata": {},
     "output_type": "execute_result"
    }
   ],
   "source": [
    "accuracy[-1]"
   ]
  },
  {
   "cell_type": "code",
   "execution_count": 9,
   "metadata": {},
   "outputs": [
    {
     "data": {
      "text/plain": [
       "100001"
      ]
     },
     "execution_count": 9,
     "metadata": {},
     "output_type": "execute_result"
    }
   ],
   "source": [
    "itercount"
   ]
  },
  {
   "cell_type": "code",
   "execution_count": 10,
   "metadata": {},
   "outputs": [
    {
     "data": {
      "text/plain": [
       "0.3593281568044345"
      ]
     },
     "execution_count": 10,
     "metadata": {},
     "output_type": "execute_result"
    }
   ],
   "source": [
    "loss[-1]"
   ]
  },
  {
   "cell_type": "code",
   "execution_count": 11,
   "metadata": {},
   "outputs": [
    {
     "data": {
      "text/plain": [
       "0.3593283756659969"
      ]
     },
     "execution_count": 11,
     "metadata": {},
     "output_type": "execute_result"
    }
   ],
   "source": [
    "loss[-2]"
   ]
  }
 ],
 "metadata": {
  "kernelspec": {
   "display_name": "Python 3",
   "language": "python",
   "name": "python3"
  },
  "language_info": {
   "codemirror_mode": {
    "name": "ipython",
    "version": 3
   },
   "file_extension": ".py",
   "mimetype": "text/x-python",
   "name": "python",
   "nbconvert_exporter": "python",
   "pygments_lexer": "ipython3",
   "version": "3.7.6"
  }
 },
 "nbformat": 4,
 "nbformat_minor": 4
}
