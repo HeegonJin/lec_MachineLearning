{
 "cells": [
  {
   "cell_type": "markdown",
   "metadata": {},
   "source": [
    "# plot the training data"
   ]
  },
  {
   "cell_type": "code",
   "execution_count": 5,
   "metadata": {},
   "outputs": [
    {
     "data": {
      "image/png": "[encoded data removed]",
      "text/plain": [
       "<Figure size 432x288 with 1 Axes>"
      ]
     },
     "metadata": {
      "needs_background": "light"
     },
     "output_type": "display_data"
    }
   ],
   "source": [
    "import numpy as np\n",
    "import matplotlib.pyplot as plt\n",
    "\n",
    "data    = np.genfromtxt(\"data-nonlinear.txt\", delimiter=',')\n",
    "\n",
    "pointX  = data[:, 0]\n",
    "pointY  = data[:, 1]\n",
    "label   = data[:, 2]\n",
    "\n",
    "pointX0 = pointX[label == 0]\n",
    "pointY0 = pointY[label == 0]\n",
    "\n",
    "pointX1 = pointX[label == 1]\n",
    "pointY1 = pointY[label == 1]\n",
    "\n",
    "plt.figure()\n",
    "plt.scatter(pointX0, pointY0, c='b')\n",
    "plt.scatter(pointX1, pointY1, c='r')\n",
    "plt.tight_layout()\n",
    "plt.gca().set_aspect('equal', adjustable='box')\n",
    "plt.show()"
   ]
  },
  {
   "cell_type": "code",
   "execution_count": 8,
   "metadata": {},
   "outputs": [],
   "source": [
    "def g(T, x, y):\n",
    "    result = 0\n",
    "    for row in range(10):\n",
    "        for col in range(10):\n",
    "            result += T[row][col] * (x**row) * (y**col)\n",
    "    return result\n",
    "\n",
    "\n",
    "def sig(z):\n",
    "    return 1 / (1 + np.exp(-z))\n",
    "    \n",
    "    \n",
    "def obj(T, X, Y, m, rambda):\n",
    "    error = 0\n",
    "    eps = 1e-12\n",
    "    for i in range(m):\n",
    "        error += (label[i] * np.log(1/(eps+sig(g(T,X[i],Y[i]))))) + ((1-label[i]) * np.log(1/(eps+1-sig(g(T,X[i],Y[i])))))\n",
    "    error = error / m\n",
    "    regularize = 0\n",
    "    for row in range(10):\n",
    "        for col in range(10):\n",
    "            regularize += T[row][col] ** 2\n",
    "    error += regularize * rambda /2\n",
    "    return error\n",
    "\n",
    "    \n",
    "def gradient(T,X,Y,m,lr, rambda):\n",
    "    nT = [[0 for i in range(10)]for j in range(10)]\n",
    "    for row in range(10):\n",
    "        temp = []\n",
    "        for col in range(10):\n",
    "            val = 0\n",
    "            for i in range(m):\n",
    "                val += (sig(g(T,X[i],Y[i])) - label[i]) * (X[i]**row) * (Y[i]**col) + rambda*T[row][col]\n",
    "            nT[row][col] = T[row][col] - lr / m * val\n",
    "    return nT\n",
    "    \n",
    "    \n",
    "def acc(T,X,Y,m):\n",
    "    score = 0\n",
    "    for i in range(m):\n",
    "        if g(T,X[i],Y[i]) >= 0 and label[i] == 1:\n",
    "            score += 1\n",
    "        elif g(T,X[i],Y[i]) < 0 and label[i] == 0:\n",
    "            score += 1\n",
    "    return score / m"
   ]
  },
  {
   "cell_type": "code",
   "execution_count": 10,
   "metadata": {
    "scrolled": true
   },
   "outputs": [],
   "source": [
    "m = len(label)\n",
    "lr = 0.01\n",
    "itermax = 10000\n",
    "itercount = 0\n",
    "loss = []\n",
    "accuracy = []\n",
    "T = []\n",
    "for row in range(10):\n",
    "    temp = []\n",
    "    for col in range(10):\n",
    "        temp.append(np.random.randn())\n",
    "    T.append(temp)\n",
    "T_init = T\n",
    "\n",
    "while True:\n",
    "    \n",
    "    if itercount > itermax:\n",
    "        break\n",
    "    loss.append(obj(T,pointX, pointY, m, 1/4))\n",
    "    accuracy.append(acc(T,pointX,pointY,m))\n",
    "    T = gradient(T,pointX,pointY,m,lr, 1/4)\n",
    "    itercount += 1\n",
    "    \n",
    "    if itercount > 2 and abs(loss[-1]-loss[-2]) < 0.000001: #check convergence\n",
    "        break"
   ]
  },
  {
   "cell_type": "code",
   "execution_count": 11,
   "metadata": {},
   "outputs": [],
   "source": [
    "over_itercount = 0\n",
    "over_loss = []\n",
    "over_accuracy = []\n",
    "T = T_init\n",
    "\n",
    "while True:\n",
    "    \n",
    "    if over_itercount > itermax:\n",
    "        break\n",
    "    over_loss.append(obj(T,pointX, pointY, m, 0))\n",
    "    over_accuracy.append(acc(T,pointX,pointY,m))\n",
    "    T = gradient(T,pointX,pointY,m,lr, 0)\n",
    "    over_itercount += 1\n",
    "    \n",
    "    if over_itercount > 2 and abs(over_loss[-1]-over_loss[-2]) < 0.000001: #check convergence\n",
    "        break"
   ]
  },
  {
   "cell_type": "code",
   "execution_count": 12,
   "metadata": {},
   "outputs": [],
   "source": [
    "under_itercount = 0\n",
    "under_loss = []\n",
    "under_accuracy = []\n",
    "T = T_init\n",
    "for row in range(10):\n",
    "    temp = []\n",
    "    for col in range(10):\n",
    "        temp.append(np.random.randn())\n",
    "    T.append(temp)\n",
    "\n",
    "while True:\n",
    "    \n",
    "    if under_itercount > itermax:\n",
    "        break\n",
    "    under_loss.append(obj(T,pointX, pointY, m, 1))\n",
    "    under_accuracy.append(acc(T,pointX,pointY,m))\n",
    "    T = gradient(T,pointX,pointY,m,lr, 1)\n",
    "    under_itercount += 1\n",
    "    \n",
    "    if under_itercount > 2 and abs(under_loss[-1]-under_loss[-2]) < 0.000001: #check convergence\n",
    "        break"
   ]
  },
  {
   "cell_type": "markdown",
   "metadata": {},
   "source": [
    "# Plot the train error"
   ]
  },
  {
   "cell_type": "code",
   "execution_count": 16,
   "metadata": {
    "scrolled": false
   },
   "outputs": [
    {
     "data": {
      "image/png": "[encoded data removed]",
      "text/plain": [
       "<Figure size 432x288 with 1 Axes>"
      ]
     },
     "metadata": {
      "needs_background": "light"
     },
     "output_type": "display_data"
    }
   ],
   "source": [
    "step = [i for i in range(over_itercount)]\n",
    "plt.plot(step, over_loss ,  label = 'over-fitting', c = 'r')\n",
    "step = [i for i in range(itercount)]\n",
    "plt.plot(step, loss ,  label = 'just-right', c = 'g')\n",
    "step = [i for i in range(under_itercount)]\n",
    "plt.plot(step, under_loss ,  label = 'under-fitting', c = 'b')\n",
    "plt.xlabel(\"iterations\")\n",
    "plt.ylabel(\"training error\")\n",
    "plt.legend()\n",
    "plt.show()"
   ]
  },
  {
   "cell_type": "markdown",
   "metadata": {},
   "source": [
    "# Display the values of the chosen regularization parameters"
   ]
  },
  {
   "cell_type": "markdown",
   "metadata": {},
   "source": [
    "$\\color{red}{\\lambda_1: 0 }$ \n",
    "$\\color{green}{\\lambda_2: 1/4 }$ \n",
    "$\\color{blue}{\\lambda_3: 1 }$ \n",
    "\n"
   ]
  },
  {
   "cell_type": "markdown",
   "metadata": {},
   "source": [
    "# plot the training accuracy"
   ]
  },
  {
   "cell_type": "code",
   "execution_count": 14,
   "metadata": {
    "scrolled": false
   },
   "outputs": [
    {
     "data": {
      "image/png": "[encoded data removed]",
      "text/plain": [
       "<Figure size 432x288 with 1 Axes>"
      ]
     },
     "metadata": {
      "needs_background": "light"
     },
     "output_type": "display_data"
    }
   ],
   "source": [
    "step = [i for i in range(over_itercount)]\n",
    "plt.plot(step, over_accuracy ,  label = 'over-fitting', c = 'r')\n",
    "step = [i for i in range(itercount)]\n",
    "plt.plot(step, accuracy,  label = 'just-right', c = 'g')\n",
    "step = [i for i in range(under_itercount)]\n",
    "plt.plot(step, under_accuracy,  label = 'under-fitting', c = 'b')\n",
    "plt.xlabel(\"iterations\")\n",
    "plt.ylabel(\"training error\")\n",
    "plt.legend()\n",
    "plt.show()"
   ]
  },
  {
   "cell_type": "markdown",
   "metadata": {},
   "source": [
    "# final training accuracy"
   ]
  },
  {
   "cell_type": "markdown",
   "metadata": {},
   "source": [
    "over-fitting accuracy: $\\color{red}{81.35593220338984\\%}$  \n",
    "just-right accuracy: $\\color{green}{71.1864406779661\\%}$  \n",
    "under-fitting accuracy: $\\color{blue}{61.016949152542374\\%}$  "
   ]
  },
  {
   "cell_type": "code",
   "execution_count": 17,
   "metadata": {
    "scrolled": true
   },
   "outputs": [
    {
     "name": "stdout",
     "output_type": "stream",
     "text": [
      "final over-fitting accuracy:  81.35593220338984 %\n"
     ]
    }
   ],
   "source": [
    "print(\"final over-fitting accuracy: \", over_accuracy[-1]*100, \"%\")"
   ]
  },
  {
   "cell_type": "code",
   "execution_count": 18,
   "metadata": {},
   "outputs": [
    {
     "name": "stdout",
     "output_type": "stream",
     "text": [
      "final just-right accuracy:  71.1864406779661 %\n"
     ]
    }
   ],
   "source": [
    "print(\"final just-right accuracy: \", accuracy[-1]*100, \"%\")"
   ]
  },
  {
   "cell_type": "code",
   "execution_count": 19,
   "metadata": {},
   "outputs": [
    {
     "name": "stdout",
     "output_type": "stream",
     "text": [
      "final under-fitting accuracy:  61.016949152542374 %\n"
     ]
    }
   ],
   "source": [
    "print(\"final under-fitting accuracy: \", under_accuracy[-1]*100, \"%\")"
   ]
  },
  {
   "cell_type": "markdown",
   "metadata": {},
   "source": [
    "# plot the optimal classifier "
   ]
  },
  {
   "cell_type": "code",
   "execution_count": null,
   "metadata": {},
   "outputs": [],
   "source": [
    "boundary = []\n",
    "for xi in range(2250):\n",
    "    temp = []\n",
    "    for yi in range(2250):\n",
    "        if 0-1e-1<=Z[xi][yi] <= 0+1e-1:\n",
    "            temp.append(Y[yi])\n",
    "    if len(temp)>0 and (xi == 0 or xi == 2249):\n",
    "        boundary.append((X[xi], (min(temp) + max(temp)) / 2))\n",
    "    elif len(temp)>1:\n",
    "        boundary.append((X[xi], min(temp)))\n",
    "        boundary.append((X[xi], max(temp)))\n",
    "boundary = np.array(boundary)"
   ]
  },
  {
   "cell_type": "code",
   "execution_count": 127,
   "metadata": {},
   "outputs": [
    {
     "data": {
      "image/png": "[encoded data removed]",
      "text/plain": [
       "<Figure size 432x288 with 1 Axes>"
      ]
     },
     "metadata": {
      "needs_background": "light"
     },
     "output_type": "display_data"
    }
   ],
   "source": [
    "plt.scatter(pointX0, pointY0, c='b')\n",
    "plt.scatter(pointX1, pointY1, c='r')\n",
    "plt.scatter(boundary[:,0], boundary[:,1], c='g')\n",
    "X = np.arange(-1,1.25,0.001)\n",
    "Y = np.arange(-1,1.25,0.001)\n",
    "XX,YY = np.meshgrid(X,Y)\n",
    "Z = g(t0, t1, t2, t3, t4,t5,t6,t7,t8,t9,t10,t11,t12,t13,t14,t15, XX,YY)\n",
    "plt.show()"
   ]
  }
 ],
 "metadata": {
  "kernelspec": {
   "display_name": "Python 3",
   "language": "python",
   "name": "python3"
  },
  "language_info": {
   "codemirror_mode": {
    "name": "ipython",
    "version": 3
   },
   "file_extension": ".py",
   "mimetype": "text/x-python",
   "name": "python",
   "nbconvert_exporter": "python",
   "pygments_lexer": "ipython3",
   "version": "3.7.6"
  }
 },
 "nbformat": 4,
 "nbformat_minor": 4
}
