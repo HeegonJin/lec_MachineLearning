{
 "cells": [
  {
   "cell_type": "code",
   "execution_count": 1,
   "metadata": {},
   "outputs": [],
   "source": [
    "import matplotlib as mpl\n",
    "import matplotlib.pyplot as plt\n",
    "import numpy as np\n",
    "import random\n",
    "%matplotlib inline"
   ]
  },
  {
   "cell_type": "code",
   "execution_count": 2,
   "metadata": {},
   "outputs": [
    {
     "data": {
      "image/png": "[encoded data removed]",
      "text/plain": [
       "<Figure size 432x288 with 1 Axes>"
      ]
     },
     "metadata": {
      "needs_background": "light"
     },
     "output_type": "display_data"
    }
   ],
   "source": [
    "x = np.arange(0,10,0.1)\n",
    "y = 2*x + 10 # a= 2, b = 10\n",
    "plt.title('Input Data')\n",
    "plt.plot(x, y, c= 'b')\n",
    "# a straight line that is the graph of a linear function (in blue color)\n",
    "\n",
    "m = np.arange(0,11,1) # m = 11\n",
    "noise = []\n",
    "\n",
    "for i in m:\n",
    "    noise.append(2*i +10 + random.uniform(-1,1))\n",
    "\n",
    "plt.plot(m, noise, 'ro', c = 'k')\n",
    "#a set of points that have random perturbations with respect to the straight line (in black color)\n",
    "\n",
    "plt.ylabel('Y')\n",
    "plt.xlabel('X')\n",
    "plt.show()"
   ]
  },
  {
   "cell_type": "code",
   "execution_count": 3,
   "metadata": {},
   "outputs": [],
   "source": [
    "def Linear_Model(theta0, theta1, x):\n",
    "    return theta0 + theta1 * x\n",
    "\n",
    "\n",
    "def Objective_Function(m, theta0, theta1):\n",
    "    result = 0\n",
    "    for i in m:\n",
    "        result += (Linear_Model(theta0, theta1, i) - (2*i +10))**2\n",
    "    result /= 2* len(m)\n",
    "    return result\n",
    "\n",
    "\n",
    "def Gradient_Descent(m, lr, theta0, theta1):\n",
    "    temp = 0\n",
    "    for i in m:\n",
    "        temp += (Linear_Model(theta0, theta1, i) - (2*i +10))\n",
    "    new_theta0 = theta0 - lr * temp / len(m)\n",
    "    \n",
    "    temp = 0\n",
    "    for i in m:\n",
    "        temp += (Linear_Model(theta0, theta1, i) - (2*i +10))*i\n",
    "    new_theta1 = theta1 - lr * temp / len(m)\n",
    "    \n",
    "    theta0 = new_theta0\n",
    "    theta1 = new_theta1\n",
    "    \n",
    "    return theta0, theta1"
   ]
  },
  {
   "cell_type": "code",
   "execution_count": 4,
   "metadata": {},
   "outputs": [],
   "source": [
    "m = np.arange(0,11,1) # m = 11\n",
    "lr = 0.01\n",
    "theta0 = random.uniform(1,3)\n",
    "theta1 = random.uniform(8,12)"
   ]
  },
  {
   "cell_type": "code",
   "execution_count": 5,
   "metadata": {},
   "outputs": [],
   "source": [
    "of_val = []\n",
    "theta = []\n",
    "for i in range(1000):\n",
    "    of_val.append(Objective_Function(m, theta0, theta1))\n",
    "    theta0, theta1 = Gradient_Descent(m,lr,theta0,theta1)\n",
    "    theta.append((theta0, theta1))"
   ]
  },
  {
   "cell_type": "code",
   "execution_count": 6,
   "metadata": {},
   "outputs": [
    {
     "data": {
      "image/png": "[encoded data removed]",
      "text/plain": [
       "<Figure size 432x288 with 1 Axes>"
      ]
     },
     "metadata": {
      "needs_background": "light"
     },
     "output_type": "display_data"
    }
   ],
   "source": [
    "x = np.arange(0,1000,1)\n",
    "y= []\n",
    "for i in x:\n",
    "    y.append(of_val[i])\n",
    "plt.title('Energy Values')\n",
    "plt.ylim(0,y[10])\n",
    "plt.plot(x, y, c= 'b')\n",
    "plt.ylabel('Value of objective function')\n",
    "plt.xlabel('Iteration')\n",
    "plt.show()"
   ]
  },
  {
   "cell_type": "code",
   "execution_count": null,
   "metadata": {},
   "outputs": [],
   "source": []
  }
 ],
 "metadata": {
  "kernelspec": {
   "display_name": "Python 3",
   "language": "python",
   "name": "python3"
  },
  "language_info": {
   "codemirror_mode": {
    "name": "ipython",
    "version": 3
   },
   "file_extension": ".py",
   "mimetype": "text/x-python",
   "name": "python",
   "nbconvert_exporter": "python",
   "pygments_lexer": "ipython3",
   "version": "3.7.6"
  }
 },
 "nbformat": 4,
 "nbformat_minor": 4
}
